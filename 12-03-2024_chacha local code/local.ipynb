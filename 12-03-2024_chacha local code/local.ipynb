{
 "cells": [
  {
   "cell_type": "code",
   "execution_count": 1,
   "metadata": {},
   "outputs": [
    {
     "ename": "KeyboardInterrupt",
     "evalue": "",
     "output_type": "error",
     "traceback": [
      "\u001b[1;31m---------------------------------------------------------------------------\u001b[0m",
      "\u001b[1;31mKeyboardInterrupt\u001b[0m                         Traceback (most recent call last)",
      "Cell \u001b[1;32mIn[1], line 76\u001b[0m\n\u001b[0;32m     74\u001b[0m \u001b[38;5;28;01melse\u001b[39;00m:\n\u001b[0;32m     75\u001b[0m     cv2\u001b[38;5;241m.\u001b[39mimshow(\u001b[38;5;124m\"\u001b[39m\u001b[38;5;124mDecrypted Image\u001b[39m\u001b[38;5;124m\"\u001b[39m, decrypted_image)\n\u001b[1;32m---> 76\u001b[0m     \u001b[43mcv2\u001b[49m\u001b[38;5;241;43m.\u001b[39;49m\u001b[43mwaitKey\u001b[49m\u001b[43m(\u001b[49m\u001b[38;5;241;43m0\u001b[39;49m\u001b[43m)\u001b[49m\n\u001b[0;32m     77\u001b[0m     cv2\u001b[38;5;241m.\u001b[39mdestroyAllWindows()\n",
      "\u001b[1;31mKeyboardInterrupt\u001b[0m: "
     ]
    }
   ],
   "source": [
    "from Crypto.Cipher import ChaCha20\n",
    "from Crypto.Random import get_random_bytes\n",
    "import cv2\n",
    "\n",
    "def chacha20_encrypt(data, key, iv=None, position=0):\n",
    "    if not isinstance(data, bytes):\n",
    "        raise TypeError('Data must be bytes.')\n",
    "    if iv is None:\n",
    "        iv = b'\\0' * 8\n",
    "    if isinstance(key, bytes):\n",
    "        if not key:\n",
    "            raise ValueError('Key is empty.')\n",
    "        if len(key) < 32:\n",
    "            key = (key * (32 // len(key) + 1))[:32]\n",
    "        if len(key) > 32:\n",
    "            raise ValueError('Key is too long.')\n",
    "\n",
    "    # Initialize ChaCha20 cipher\n",
    "    cipher = ChaCha20.new(key=key, nonce=iv)\n",
    "\n",
    "    encrypted_data = b''\n",
    "    # Encrypt data in blocks\n",
    "    for i in range(0, len(data), 4096):\n",
    "        block = data[i:i+4096]\n",
    "        encrypted_data += cipher.encrypt(block)\n",
    "\n",
    "    return encrypted_data\n",
    "\n",
    "def chacha20_decrypt(data, key, iv=None, position=0):\n",
    "    decrypted_data = chacha20_encrypt(data, key, iv, position)\n",
    "    return decrypted_data\n",
    "\n",
    "def encrypt_image(input_path, output_path, key):\n",
    "    with open(input_path, 'rb') as image_file:\n",
    "        image_data = image_file.read()\n",
    "\n",
    "    iv = get_random_bytes(8)\n",
    "    encrypted_data = chacha20_encrypt(image_data, key, iv)\n",
    "\n",
    "    with open(output_path, 'wb') as encrypted_file:\n",
    "        encrypted_file.write(iv + encrypted_data)\n",
    "\n",
    "def decrypt_image(input_path, output_path, key):\n",
    "    with open(input_path, 'rb') as encrypted_file:\n",
    "        data = encrypted_file.read()\n",
    "\n",
    "    iv = data[:8]\n",
    "    encrypted_data = data[8:]\n",
    "\n",
    "    decrypted_data = chacha20_decrypt(encrypted_data, key, iv)\n",
    "\n",
    "    with open(output_path, 'wb') as decrypted_file:\n",
    "        decrypted_file.write(decrypted_data)\n",
    "\n",
    "# Paths\n",
    "input_image_path = 'shuffled.jpg'\n",
    "encrypted_image_path = 'encrypted_image.png'\n",
    "decrypted_image_path = 'decrypted_image.png'\n",
    "\n",
    "# Generate a random key\n",
    "key = get_random_bytes(32)  # Generating a random 256-bit key\n",
    "\n",
    "# Encrypt image\n",
    "encrypt_image(input_image_path, encrypted_image_path, key)\n",
    "\n",
    "# Decrypt image\n",
    "decrypt_image(encrypted_image_path, decrypted_image_path, key)\n",
    "\n",
    "# Load decrypted image\n",
    "decrypted_image = cv2.imread(decrypted_image_path)\n",
    "\n",
    "if decrypted_image is None:\n",
    "    print(\"Error: Failed to load the decrypted image.\")\n",
    "else:\n",
    "    cv2.imshow(\"Decrypted Image\", decrypted_image)\n",
    "    cv2.waitKey(0)\n",
    "    cv2.destroyAllWindows()\n"
   ]
  },
  {
   "cell_type": "code",
   "execution_count": null,
   "metadata": {},
   "outputs": [],
   "source": []
  }
 ],
 "metadata": {
  "kernelspec": {
   "display_name": "Python 3",
   "language": "python",
   "name": "python3"
  },
  "language_info": {
   "codemirror_mode": {
    "name": "ipython",
    "version": 3
   },
   "file_extension": ".py",
   "mimetype": "text/x-python",
   "name": "python",
   "nbconvert_exporter": "python",
   "pygments_lexer": "ipython3",
   "version": "3.11.5"
  }
 },
 "nbformat": 4,
 "nbformat_minor": 2
}
