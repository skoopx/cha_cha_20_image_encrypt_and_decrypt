{
 "cells": [
  {
   "cell_type": "code",
   "execution_count": 1,
   "metadata": {},
   "outputs": [
    {
     "ename": "error",
     "evalue": "OpenCV(4.9.0) D:\\a\\opencv-python\\opencv-python\\opencv\\modules\\core\\src\\arithm.cpp:650: error: (-209:Sizes of input arguments do not match) The operation is neither 'array op array' (where arrays have the same size and the same number of channels), nor 'array op scalar', nor 'scalar op array' in function 'cv::arithm_op'\n",
     "output_type": "error",
     "traceback": [
      "\u001b[1;31m---------------------------------------------------------------------------\u001b[0m",
      "\u001b[1;31merror\u001b[0m                                     Traceback (most recent call last)",
      "Cell \u001b[1;32mIn[1], line 23\u001b[0m\n\u001b[0;32m     20\u001b[0m reshuffled_image \u001b[38;5;241m=\u001b[39m inverse_arnold_cat_map(shuffled_image, \u001b[38;5;241m1\u001b[39m)\n\u001b[0;32m     22\u001b[0m \u001b[38;5;66;03m# Calculate pixel intensity differences\u001b[39;00m\n\u001b[1;32m---> 23\u001b[0m diff_image \u001b[38;5;241m=\u001b[39m \u001b[43mcv2\u001b[49m\u001b[38;5;241;43m.\u001b[39;49m\u001b[43mabsdiff\u001b[49m\u001b[43m(\u001b[49m\u001b[43moriginal_image\u001b[49m\u001b[43m,\u001b[49m\u001b[43m \u001b[49m\u001b[43mreshuffled_image\u001b[49m\u001b[43m)\u001b[49m\n\u001b[0;32m     24\u001b[0m diff_hist \u001b[38;5;241m=\u001b[39m cv2\u001b[38;5;241m.\u001b[39mabsdiff(original_image, reshuffled_image)\u001b[38;5;241m.\u001b[39msum(axis\u001b[38;5;241m=\u001b[39m\u001b[38;5;241m2\u001b[39m)\u001b[38;5;241m.\u001b[39mravel()\n\u001b[0;32m     26\u001b[0m \u001b[38;5;66;03m# Heatmap of Pixel Intensity Differences\u001b[39;00m\n",
      "\u001b[1;31merror\u001b[0m: OpenCV(4.9.0) D:\\a\\opencv-python\\opencv-python\\opencv\\modules\\core\\src\\arithm.cpp:650: error: (-209:Sizes of input arguments do not match) The operation is neither 'array op array' (where arrays have the same size and the same number of channels), nor 'array op scalar', nor 'scalar op array' in function 'cv::arithm_op'\n"
     ]
    }
   ],
   "source": [
    "import numpy as np\n",
    "import matplotlib.pyplot as plt\n",
    "import cv2\n",
    "import seaborn as sns\n",
    "\n",
    "def arnold_cat_map(image, iterations):\n",
    "    # Implementation of Arnold's Cat Map\n",
    "    # (Please provide your implementation)\n",
    "    pass\n",
    "\n",
    "def inverse_arnold_cat_map(image, iterations):\n",
    "    # Implementation of the inverse Arnold's Cat Map\n",
    "    # (Please provide your implementation)\n",
    "    pass\n",
    "\n",
    "# Load the original image\n",
    "original_image = cv2.imread('image.jpg')\n",
    "# Assuming we have already applied arnold_cat_map and inverse_arnold_cat_map functions\n",
    "shuffled_image = arnold_cat_map(original_image, 1)\n",
    "reshuffled_image = inverse_arnold_cat_map(shuffled_image, 1)\n",
    "\n",
    "# Calculate pixel intensity differences\n",
    "diff_image = cv2.absdiff(original_image, reshuffled_image)\n",
    "diff_hist = cv2.absdiff(original_image, reshuffled_image).sum(axis=2).ravel()\n",
    "\n",
    "# Heatmap of Pixel Intensity Differences\n",
    "plt.figure(figsize=(12, 6))\n",
    "plt.subplot(1, 2, 1)\n",
    "plt.title('Heatmap of Pixel Intensity Differences')\n",
    "sns.heatmap(diff_image.mean(axis=2), cmap='viridis')\n",
    "plt.axis('off')\n",
    "\n",
    "# 2D Histograms\n",
    "plt.subplot(1, 2, 2)\n",
    "plt.title('2D Histogram of Pixel Intensities')\n",
    "plt.hist2d(original_image.ravel(), reshuffled_image.ravel(), bins=64, cmap='viridis')\n",
    "plt.xlabel('Original Pixel Intensity')\n",
    "plt.ylabel('Reshuffled Pixel Intensity')\n",
    "plt.colorbar()\n",
    "\n",
    "plt.tight_layout()\n",
    "plt.show()\n",
    "\n",
    "# Violin Plot\n",
    "plt.figure(figsize=(8, 6))\n",
    "plt.title('Violin Plot of Pixel Intensity Differences')\n",
    "sns.violinplot(data=diff_hist, orient='v', color='skyblue')\n",
    "plt.ylabel('Pixel Intensity Difference')\n",
    "plt.xlabel('Original vs Reshuffled')\n",
    "plt.grid(True)\n",
    "\n",
    "plt.show()\n",
    "\n",
    "# KDE Plot\n",
    "plt.figure(figsize=(8, 6))\n",
    "plt.title('Kernel Density Estimation (KDE) Plot of Pixel Intensity Differences')\n",
    "sns.kdeplot(diff_hist, color='purple', fill=True)\n",
    "plt.xlabel('Pixel Intensity Difference')\n",
    "plt.ylabel('Density')\n",
    "plt.grid(True)\n",
    "\n",
    "plt.show()\n",
    "\n",
    "# Q-Q Plot\n",
    "plt.figure(figsize=(8, 6))\n",
    "plt.title('Quantile-Quantile (Q-Q) Plot of Pixel Intensity Differences')\n",
    "sns.qqplot(diff_hist, line='s', color='orange')\n",
    "plt.xlabel('Theoretical Quantiles')\n",
    "plt.ylabel('Sample Quantiles')\n",
    "plt.grid(True)\n",
    "\n",
    "plt.show()\n"
   ]
  },
  {
   "cell_type": "code",
   "execution_count": 1,
   "metadata": {},
   "outputs": [
    {
     "ename": "NameError",
     "evalue": "name 'cv2' is not defined",
     "output_type": "error",
     "traceback": [
      "\u001b[1;31m---------------------------------------------------------------------------\u001b[0m",
      "\u001b[1;31mNameError\u001b[0m                                 Traceback (most recent call last)",
      "Cell \u001b[1;32mIn[1], line 2\u001b[0m\n\u001b[0;32m      1\u001b[0m \u001b[38;5;66;03m# Calculate the absolute difference between the original and reshuffled images\u001b[39;00m\n\u001b[1;32m----> 2\u001b[0m diff_original_reshuffled \u001b[38;5;241m=\u001b[39m \u001b[43mcv2\u001b[49m\u001b[38;5;241m.\u001b[39mabsdiff(original_image, reshuffled_image)\n\u001b[0;32m      4\u001b[0m \u001b[38;5;66;03m# Calculate the absolute difference between the original and shuffled images\u001b[39;00m\n\u001b[0;32m      5\u001b[0m diff_original_shuffled \u001b[38;5;241m=\u001b[39m cv2\u001b[38;5;241m.\u001b[39mabsdiff(original_image, shuffled_image)\n",
      "\u001b[1;31mNameError\u001b[0m: name 'cv2' is not defined"
     ]
    }
   ],
   "source": [
    "# Calculate the absolute difference between the original and reshuffled images\n",
    "diff_original_reshuffled = cv2.absdiff(original_image, reshuffled_image)\n",
    "\n",
    "# Calculate the absolute difference between the original and shuffled images\n",
    "diff_original_shuffled = cv2.absdiff(original_image, shuffled_image)\n",
    "\n",
    "# Plotting the heatmaps\n",
    "plt.figure(figsize=(12, 6))\n",
    "\n",
    "# Heatmap for the difference between original and reshuffled images\n",
    "plt.subplot(1, 2, 1)\n",
    "plt.title('Difference between Original and Reshuffled Images')\n",
    "plt.imshow(cv2.cvtColor(diff_original_reshuffled, cv2.COLOR_BGR2RGB))\n",
    "plt.axis('off')\n",
    "\n",
    "# Heatmap for the difference between original and shuffled images\n",
    "plt.subplot(1, 2, 2)\n",
    "plt.title('Difference between Original and Shuffled Images')\n",
    "plt.imshow(cv2.cvtColor(diff_original_shuffled, cv2.COLOR_BGR2RGB))\n",
    "plt.axis('off')\n",
    "\n",
    "plt.tight_layout()\n",
    "plt.show()\n"
   ]
  }
 ],
 "metadata": {
  "kernelspec": {
   "display_name": "Python 3",
   "language": "python",
   "name": "python3"
  },
  "language_info": {
   "codemirror_mode": {
    "name": "ipython",
    "version": 3
   },
   "file_extension": ".py",
   "mimetype": "text/x-python",
   "name": "python",
   "nbconvert_exporter": "python",
   "pygments_lexer": "ipython3",
   "version": "3.11.5"
  }
 },
 "nbformat": 4,
 "nbformat_minor": 2
}
